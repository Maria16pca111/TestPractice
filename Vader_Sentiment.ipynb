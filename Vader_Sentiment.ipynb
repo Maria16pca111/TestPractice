{
 "cells": [
  {
   "cell_type": "code",
   "execution_count": 2,
   "metadata": {
    "collapsed": true
   },
   "outputs": [],
   "source": [
    "##Vader Sentiment Analysis Demo"
   ]
  },
  {
   "cell_type": "code",
   "execution_count": 1,
   "metadata": {
    "scrolled": true
   },
   "outputs": [
    {
     "name": "stderr",
     "output_type": "stream",
     "text": [
      "C:\\ProgramData\\Anaconda2\\lib\\site-packages\\nltk\\twitter\\__init__.py:20: UserWarning: The twython library has not been installed. Some functionality from the twitter package will not be available.\n",
      "  warnings.warn(\"The twython library has not been installed. \"\n"
     ]
    }
   ],
   "source": [
    "import nltk\n",
    "from nltk.sentiment import vader"
   ]
  },
  {
   "cell_type": "code",
   "execution_count": 2,
   "metadata": {},
   "outputs": [
    {
     "name": "stdout",
     "output_type": "stream",
     "text": [
      "showing info https://raw.githubusercontent.com/nltk/nltk_data/gh-pages/index.xml\n"
     ]
    },
    {
     "data": {
      "text/plain": [
       "True"
      ]
     },
     "execution_count": 2,
     "metadata": {},
     "output_type": "execute_result"
    }
   ],
   "source": [
    "nltk.download()"
   ]
  },
  {
   "cell_type": "code",
   "execution_count": 3,
   "metadata": {},
   "outputs": [
    {
     "data": {
      "text/plain": [
       "{'compound': -0.4767, 'neg': 0.756, 'neu': 0.244, 'pos': 0.0}"
      ]
     },
     "execution_count": 3,
     "metadata": {},
     "output_type": "execute_result"
    }
   ],
   "source": [
    "sia = vader.SentimentIntensityAnalyzer()\n",
    "sia.polarity_scores(\"How terrible\")"
   ]
  },
  {
   "cell_type": "code",
   "execution_count": 3,
   "metadata": {},
   "outputs": [
    {
     "data": {
      "text/plain": [
       "{'compound': -0.4767, 'neg': 1.0, 'neu': 0.0, 'pos': 0.0}"
      ]
     },
     "execution_count": 3,
     "metadata": {},
     "output_type": "execute_result"
    }
   ],
   "source": [
    "sia.polarity_scores(\"terrible\")"
   ]
  },
  {
   "cell_type": "code",
   "execution_count": 4,
   "metadata": {},
   "outputs": [
    {
     "data": {
      "text/plain": [
       "{'compound': 0.5106, 'neg': 0.0, 'neu': 0.0, 'pos': 1.0}"
      ]
     },
     "execution_count": 4,
     "metadata": {},
     "output_type": "execute_result"
    }
   ],
   "source": [
    "sia.polarity_scores(\":D\")"
   ]
  },
  {
   "cell_type": "code",
   "execution_count": 5,
   "metadata": {},
   "outputs": [
    {
     "data": {
      "text/plain": [
       "{'compound': -0.296, 'neg': 1.0, 'neu': 0.0, 'pos': 0.0}"
      ]
     },
     "execution_count": 5,
     "metadata": {},
     "output_type": "execute_result"
    }
   ],
   "source": [
    "sia.polarity_scores(\":-/\")"
   ]
  },
  {
   "cell_type": "code",
   "execution_count": 6,
   "metadata": {},
   "outputs": [
    {
     "data": {
      "text/plain": [
       "{'compound': -0.6124, 'neg': 0.5, 'neu': 0.5, 'pos': 0.0}"
      ]
     },
     "execution_count": 6,
     "metadata": {},
     "output_type": "execute_result"
    }
   ],
   "source": [
    "sia.polarity_scores(\"the cumin was the kiss of death\")"
   ]
  },
  {
   "cell_type": "code",
   "execution_count": 7,
   "metadata": {},
   "outputs": [
    {
     "data": {
      "text/plain": [
       "{'compound': 0.4404, 'neg': 0.0, 'neu': 0.508, 'pos': 0.492}"
      ]
     },
     "execution_count": 7,
     "metadata": {},
     "output_type": "execute_result"
    }
   ],
   "source": [
    "sia.polarity_scores(\"the food was good\")"
   ]
  },
  {
   "cell_type": "code",
   "execution_count": 8,
   "metadata": {},
   "outputs": [
    {
     "data": {
      "text/plain": [
       "{'compound': 0.4926, 'neg': 0.0, 'neu': 0.484, 'pos': 0.516}"
      ]
     },
     "execution_count": 8,
     "metadata": {},
     "output_type": "execute_result"
    }
   ],
   "source": [
    "sia.polarity_scores(\"the food was good!\")"
   ]
  },
  {
   "cell_type": "code",
   "execution_count": 9,
   "metadata": {},
   "outputs": [
    {
     "data": {
      "text/plain": [
       "{'compound': 0.5399, 'neg': 0.0, 'neu': 0.463, 'pos': 0.537}"
      ]
     },
     "execution_count": 9,
     "metadata": {},
     "output_type": "execute_result"
    }
   ],
   "source": [
    "sia.polarity_scores(\"the food was good!!\")"
   ]
  },
  {
   "cell_type": "code",
   "execution_count": 10,
   "metadata": {},
   "outputs": [
    {
     "data": {
      "text/plain": [
       "{'compound': -0.457, 'neg': 0.428, 'neu': 0.572, 'pos': 0.0}"
      ]
     },
     "execution_count": 10,
     "metadata": {},
     "output_type": "execute_result"
    }
   ],
   "source": [
    "sia.polarity_scores(\"the food was not good!!\")"
   ]
  },
  {
   "cell_type": "code",
   "execution_count": 11,
   "metadata": {},
   "outputs": [
    {
     "data": {
      "text/plain": [
       "{'compound': 0.5964, 'neg': 0.0, 'neu': 0.563, 'pos': 0.437}"
      ]
     },
     "execution_count": 11,
     "metadata": {},
     "output_type": "execute_result"
    }
   ],
   "source": [
    "sia.polarity_scores(\"the food was not the worst!!\")"
   ]
  },
  {
   "cell_type": "code",
   "execution_count": 12,
   "metadata": {},
   "outputs": [
    {
     "data": {
      "text/plain": [
       "{'compound': 0.4404, 'neg': 0.0, 'neu': 0.508, 'pos': 0.492}"
      ]
     },
     "execution_count": 12,
     "metadata": {},
     "output_type": "execute_result"
    }
   ],
   "source": [
    "sia.polarity_scores(\"the food was good\")"
   ]
  },
  {
   "cell_type": "code",
   "execution_count": 13,
   "metadata": {},
   "outputs": [
    {
     "data": {
      "text/plain": [
       "{'compound': 0.5622, 'neg': 0.0, 'neu': 0.452, 'pos': 0.548}"
      ]
     },
     "execution_count": 13,
     "metadata": {},
     "output_type": "execute_result"
    }
   ],
   "source": [
    "sia.polarity_scores(\"the food was GOOD\")"
   ]
  },
  {
   "cell_type": "code",
   "execution_count": 14,
   "metadata": {},
   "outputs": [
    {
     "data": {
      "text/plain": [
       "{'compound': 0.5777, 'neg': 0.0, 'neu': 0.517, 'pos': 0.483}"
      ]
     },
     "execution_count": 14,
     "metadata": {},
     "output_type": "execute_result"
    }
   ],
   "source": [
    "sia.polarity_scores(\"the food was so good\")"
   ]
  },
  {
   "cell_type": "code",
   "execution_count": 15,
   "metadata": {},
   "outputs": [
    {
     "data": {
      "text/plain": [
       "{'compound': -0.464, 'neg': 0.377, 'neu': 0.623, 'pos': 0.0}"
      ]
     },
     "execution_count": 15,
     "metadata": {},
     "output_type": "execute_result"
    }
   ],
   "source": [
    "sia.polarity_scores(\"the food was not so good\")"
   ]
  },
  {
   "cell_type": "code",
   "execution_count": 16,
   "metadata": {},
   "outputs": [
    {
     "data": {
      "text/plain": [
       "{'compound': 0.3291, 'neg': 0.234, 'neu': 0.398, 'pos': 0.368}"
      ]
     },
     "execution_count": 16,
     "metadata": {},
     "output_type": "execute_result"
    }
   ],
   "source": [
    "sia.polarity_scores(\"I usually hate seafood but I liked this\")"
   ]
  },
  {
   "cell_type": "code",
   "execution_count": 17,
   "metadata": {},
   "outputs": [
    {
     "data": {
      "text/plain": [
       "{'compound': -0.2263, 'neg': 0.352, 'neu': 0.381, 'pos': 0.267}"
      ]
     },
     "execution_count": 17,
     "metadata": {},
     "output_type": "execute_result"
    }
   ],
   "source": [
    "sia.polarity_scores(\"I usually hate seafood and I liked this\")"
   ]
  },
  {
   "cell_type": "code",
   "execution_count": 5,
   "metadata": {
    "collapsed": true
   },
   "outputs": [],
   "source": [
    "import nltk\n",
    "from nltk.sentiment import vader\n",
    "sia = vader.SentimentIntensityAnalyzer()\n",
    "\n",
    "def vaderSentiment(review):\n",
    "  return sia.polarity_scores(review)['compound']"
   ]
  },
  {
   "cell_type": "code",
   "execution_count": 6,
   "metadata": {},
   "outputs": [
    {
     "data": {
      "text/plain": [
       "0.6369"
      ]
     },
     "execution_count": 6,
     "metadata": {},
     "output_type": "execute_result"
    }
   ],
   "source": [
    "review = \"this is the best restaurant in the city\"\n",
    "vaderSentiment(review)"
   ]
  },
  {
   "cell_type": "code",
   "execution_count": 7,
   "metadata": {},
   "outputs": [
    {
     "data": {
      "text/plain": [
       "-0.5216"
      ]
     },
     "execution_count": 7,
     "metadata": {},
     "output_type": "execute_result"
    }
   ],
   "source": [
    "negatedReview = \"this is not the best restaurant in the city\"\n",
    "vaderSentiment(negatedReview)"
   ]
  },
  {
   "cell_type": "code",
   "execution_count": 8,
   "metadata": {},
   "outputs": [
    {
     "data": {
      "text/plain": [
       "0.5096"
      ]
     },
     "execution_count": 8,
     "metadata": {},
     "output_type": "execute_result"
    }
   ],
   "source": [
    "negatedReview = \"this is not the worst restaurant in the city\"\n",
    "vaderSentiment(negatedReview)"
   ]
  },
  {
   "cell_type": "code",
   "execution_count": 9,
   "metadata": {},
   "outputs": [
    {
     "data": {
      "text/plain": [
       "-0.6249"
      ]
     },
     "execution_count": 9,
     "metadata": {},
     "output_type": "execute_result"
    }
   ],
   "source": [
    "negatedReview = \"this is the worst restaurant in the city\"\n",
    "vaderSentiment(negatedReview)"
   ]
  },
  {
   "cell_type": "code",
   "execution_count": 24,
   "metadata": {
    "collapsed": true
   },
   "outputs": [],
   "source": [
    "## Dataset Link: http://www.cs.cornell.edu/people/pabo/movie-review-data/\n",
    "## download version 1 of the dataset"
   ]
  },
  {
   "cell_type": "code",
   "execution_count": 12,
   "metadata": {
    "collapsed": true
   },
   "outputs": [],
   "source": [
    "positiveReviewsFileName = \"rt-polaritydata/rt-polarity.pos\"\n",
    "negativeReviewsFileName = \"rt-polaritydata/rt-polarity.neg\"\n",
    "\n",
    "with open(positiveReviewsFileName,'r') as f:\n",
    "    positiveReviews = f.readlines()\n",
    "\n",
    "with open(negativeReviewsFileName,'r') as f:\n",
    "    negativeReviews = f.readlines()"
   ]
  },
  {
   "cell_type": "code",
   "execution_count": 13,
   "metadata": {
    "collapsed": true
   },
   "outputs": [],
   "source": [
    "def getReviewSentiments(sentimentCalculator): \n",
    "  negReviewResult = [sentimentCalculator(oneNegativeReview) for oneNegativeReview in negativeReviews]\n",
    "  posReviewResult = [sentimentCalculator(onePositiveReview) for onePositiveReview in positiveReviews]\n",
    "  return {'results-on-positive':posReviewResult, 'results-on-negative':negReviewResult}"
   ]
  },
  {
   "cell_type": "code",
   "execution_count": 14,
   "metadata": {},
   "outputs": [
    {
     "name": "stdout",
     "output_type": "stream",
     "text": [
      "Accuracy on positive reviews = 69.44%\n",
      "Accurance on negative reviews = 40.09%\n",
      "Overall accuracy = 54.76%\n"
     ]
    }
   ],
   "source": [
    "def runDiagnostics(reviewResult):\n",
    "  positiveReviewsResult = reviewResult['results-on-positive']\n",
    "  negativeReviewsResult = reviewResult['results-on-negative']\n",
    "  pctTruePositive = float(sum(x > 0 for x in positiveReviewsResult))/len(positiveReviewsResult)\n",
    "  pctTrueNegative = float(sum(x < 0 for x in negativeReviewsResult))/len(negativeReviewsResult)\n",
    "  totalAccurate = float(sum(x > 0 for x in positiveReviewsResult)) + float(sum(x < 0 for x in negativeReviewsResult))\n",
    "  total = len(positiveReviewsResult) + len(negativeReviewsResult)\n",
    "  print \"Accuracy on positive reviews = \" +\"%.2f\" % (pctTruePositive*100) + \"%\"\n",
    "  print \"Accurance on negative reviews = \" +\"%.2f\" % (pctTrueNegative*100) + \"%\"\n",
    "  print \"Overall accuracy = \" + \"%.2f\" % (totalAccurate*100/total) + \"%\"\n",
    "\n",
    "runDiagnostics(getReviewSentiments(vaderSentiment))"
   ]
  },
  {
   "cell_type": "code",
   "execution_count": 28,
   "metadata": {
    "collapsed": true
   },
   "outputs": [],
   "source": [
    "##SentiwordNet Demo"
   ]
  },
  {
   "cell_type": "code",
   "execution_count": 15,
   "metadata": {},
   "outputs": [
    {
     "data": {
      "text/plain": [
       "[SentiSynset('dog.n.01'),\n",
       " SentiSynset('frump.n.01'),\n",
       " SentiSynset('dog.n.03'),\n",
       " SentiSynset('cad.n.01'),\n",
       " SentiSynset('frank.n.02'),\n",
       " SentiSynset('pawl.n.01'),\n",
       " SentiSynset('andiron.n.01'),\n",
       " SentiSynset('chase.v.01')]"
      ]
     },
     "execution_count": 15,
     "metadata": {},
     "output_type": "execute_result"
    }
   ],
   "source": [
    "from nltk.corpus import sentiwordnet as swn\n",
    "swn.senti_synsets('dog')"
   ]
  },
  {
   "cell_type": "code",
   "execution_count": 16,
   "metadata": {},
   "outputs": [
    {
     "data": {
      "text/plain": [
       "SentiSynset('cad.n.01')"
      ]
     },
     "execution_count": 16,
     "metadata": {},
     "output_type": "execute_result"
    }
   ],
   "source": [
    "swn.senti_synsets('dog')[3]"
   ]
  },
  {
   "cell_type": "code",
   "execution_count": 17,
   "metadata": {
    "scrolled": true
   },
   "outputs": [
    {
     "data": {
      "text/plain": [
       "0.0"
      ]
     },
     "execution_count": 17,
     "metadata": {},
     "output_type": "execute_result"
    }
   ],
   "source": [
    "swn.senti_synsets('dog')[3].pos_score()"
   ]
  },
  {
   "cell_type": "code",
   "execution_count": 18,
   "metadata": {
    "scrolled": true
   },
   "outputs": [
    {
     "data": {
      "text/plain": [
       "1.0"
      ]
     },
     "execution_count": 18,
     "metadata": {},
     "output_type": "execute_result"
    }
   ],
   "source": [
    "swn.senti_synsets('dog')[3].neg_score()"
   ]
  },
  {
   "cell_type": "code",
   "execution_count": 19,
   "metadata": {
    "collapsed": true
   },
   "outputs": [],
   "source": [
    "from nltk import word_tokenize\n",
    "from nltk.corpus import sentiwordnet as swn\n",
    "\n",
    "\n",
    "def superNaiveSentiment(review):\n",
    " reviewPolarity = 0.0\n",
    " numExceptions = 0\n",
    " for word in review.lower().split():\n",
    "   weight = 0.0\n",
    "   try:\n",
    "     common_meaning = swn.senti_synsets(word)[0]\n",
    "     if common_meaning.pos_score()>common_meaning.neg_score():\n",
    "        weight = weight + common_meaning.pos_score()\n",
    "     elif common_meaning.pos_score()<common_meaning.neg_score():\n",
    "        weight = weight - common_meaning.neg_score()\n",
    "   except:\n",
    "       numExceptions = numExceptions + 1\n",
    "   #print \"Word: \" + word + \" weight: \" + str(weight)\n",
    "   reviewPolarity = reviewPolarity + weight\n",
    " return reviewPolarity"
   ]
  },
  {
   "cell_type": "code",
   "execution_count": 20,
   "metadata": {},
   "outputs": [
    {
     "data": {
      "text/plain": [
       "0.5"
      ]
     },
     "execution_count": 20,
     "metadata": {},
     "output_type": "execute_result"
    }
   ],
   "source": [
    "review = \"this is the best restaurant in the city\"\n",
    "superNaiveSentiment(review)"
   ]
  },
  {
   "cell_type": "code",
   "execution_count": 21,
   "metadata": {},
   "outputs": [
    {
     "data": {
      "text/plain": [
       "-0.125"
      ]
     },
     "execution_count": 21,
     "metadata": {},
     "output_type": "execute_result"
    }
   ],
   "source": [
    "negatedReview = \"this is not the best restaurant in the city\"\n",
    "superNaiveSentiment(negatedReview)"
   ]
  },
  {
   "cell_type": "code",
   "execution_count": 22,
   "metadata": {},
   "outputs": [
    {
     "data": {
      "text/plain": [
       "-1.375"
      ]
     },
     "execution_count": 22,
     "metadata": {},
     "output_type": "execute_result"
    }
   ],
   "source": [
    "negatedReview = \"this is not the worst restaurant in the city\"\n",
    "superNaiveSentiment(negatedReview)"
   ]
  },
  {
   "cell_type": "code",
   "execution_count": 23,
   "metadata": {},
   "outputs": [
    {
     "data": {
      "text/plain": [
       "-0.75"
      ]
     },
     "execution_count": 23,
     "metadata": {},
     "output_type": "execute_result"
    }
   ],
   "source": [
    "Review = \"this is the worst restaurant in the city\"\n",
    "superNaiveSentiment(Review)"
   ]
  },
  {
   "cell_type": "code",
   "execution_count": 24,
   "metadata": {},
   "outputs": [
    {
     "name": "stdout",
     "output_type": "stream",
     "text": [
      "Accuracy on positive reviews = 65.13%\n",
      "Accurance on negative reviews = 42.82%\n",
      "Overall accuracy = 53.98%\n"
     ]
    }
   ],
   "source": [
    "runDiagnostics(getReviewSentiments(superNaiveSentiment))"
   ]
  },
  {
   "cell_type": "code",
   "execution_count": 25,
   "metadata": {},
   "outputs": [
    {
     "data": {
      "text/plain": [
       "{'!',\n",
       " '\"',\n",
       " '#',\n",
       " '$',\n",
       " '%',\n",
       " '&',\n",
       " \"'\",\n",
       " '(',\n",
       " ')',\n",
       " '*',\n",
       " '+',\n",
       " ',',\n",
       " '-',\n",
       " '.',\n",
       " '/',\n",
       " ':',\n",
       " ';',\n",
       " '<',\n",
       " '=',\n",
       " '>',\n",
       " '?',\n",
       " '@',\n",
       " '[',\n",
       " '\\\\',\n",
       " ']',\n",
       " '^',\n",
       " '_',\n",
       " '`',\n",
       " u'a',\n",
       " u'about',\n",
       " u'above',\n",
       " u'after',\n",
       " u'again',\n",
       " u'against',\n",
       " u'ain',\n",
       " u'all',\n",
       " u'am',\n",
       " u'an',\n",
       " u'and',\n",
       " u'any',\n",
       " u'are',\n",
       " u'aren',\n",
       " u\"aren't\",\n",
       " u'as',\n",
       " u'at',\n",
       " u'be',\n",
       " u'because',\n",
       " u'been',\n",
       " u'before',\n",
       " u'being',\n",
       " u'below',\n",
       " u'between',\n",
       " u'both',\n",
       " u'but',\n",
       " u'by',\n",
       " u'can',\n",
       " u'couldn',\n",
       " u\"couldn't\",\n",
       " u'd',\n",
       " u'did',\n",
       " u'didn',\n",
       " u\"didn't\",\n",
       " u'do',\n",
       " u'does',\n",
       " u'doesn',\n",
       " u\"doesn't\",\n",
       " u'doing',\n",
       " u'don',\n",
       " u\"don't\",\n",
       " u'down',\n",
       " u'during',\n",
       " u'each',\n",
       " u'few',\n",
       " u'for',\n",
       " u'from',\n",
       " u'further',\n",
       " u'had',\n",
       " u'hadn',\n",
       " u\"hadn't\",\n",
       " u'has',\n",
       " u'hasn',\n",
       " u\"hasn't\",\n",
       " u'have',\n",
       " u'haven',\n",
       " u\"haven't\",\n",
       " u'having',\n",
       " u'he',\n",
       " u'her',\n",
       " u'here',\n",
       " u'hers',\n",
       " u'herself',\n",
       " u'him',\n",
       " u'himself',\n",
       " u'his',\n",
       " u'how',\n",
       " u'i',\n",
       " u'if',\n",
       " u'in',\n",
       " u'into',\n",
       " u'is',\n",
       " u'isn',\n",
       " u\"isn't\",\n",
       " u'it',\n",
       " u\"it's\",\n",
       " u'its',\n",
       " u'itself',\n",
       " u'just',\n",
       " u'll',\n",
       " u'm',\n",
       " u'ma',\n",
       " u'me',\n",
       " u'mightn',\n",
       " u\"mightn't\",\n",
       " u'more',\n",
       " u'most',\n",
       " u'mustn',\n",
       " u\"mustn't\",\n",
       " u'my',\n",
       " u'myself',\n",
       " u'needn',\n",
       " u\"needn't\",\n",
       " u'no',\n",
       " u'nor',\n",
       " u'not',\n",
       " u'now',\n",
       " u'o',\n",
       " u'of',\n",
       " u'off',\n",
       " u'on',\n",
       " u'once',\n",
       " u'only',\n",
       " u'or',\n",
       " u'other',\n",
       " u'our',\n",
       " u'ours',\n",
       " u'ourselves',\n",
       " u'out',\n",
       " u'over',\n",
       " u'own',\n",
       " u're',\n",
       " u's',\n",
       " u'same',\n",
       " u'shan',\n",
       " u\"shan't\",\n",
       " u'she',\n",
       " u\"she's\",\n",
       " u'should',\n",
       " u\"should've\",\n",
       " u'shouldn',\n",
       " u\"shouldn't\",\n",
       " u'so',\n",
       " u'some',\n",
       " u'such',\n",
       " u't',\n",
       " u'than',\n",
       " u'that',\n",
       " u\"that'll\",\n",
       " u'the',\n",
       " u'their',\n",
       " u'theirs',\n",
       " u'them',\n",
       " u'themselves',\n",
       " u'then',\n",
       " u'there',\n",
       " u'these',\n",
       " u'they',\n",
       " u'this',\n",
       " u'those',\n",
       " u'through',\n",
       " u'to',\n",
       " u'too',\n",
       " u'under',\n",
       " u'until',\n",
       " u'up',\n",
       " u've',\n",
       " u'very',\n",
       " u'was',\n",
       " u'wasn',\n",
       " u\"wasn't\",\n",
       " u'we',\n",
       " u'were',\n",
       " u'weren',\n",
       " u\"weren't\",\n",
       " u'what',\n",
       " u'when',\n",
       " u'where',\n",
       " u'which',\n",
       " u'while',\n",
       " u'who',\n",
       " u'whom',\n",
       " u'why',\n",
       " u'will',\n",
       " u'with',\n",
       " u'won',\n",
       " u\"won't\",\n",
       " u'wouldn',\n",
       " u\"wouldn't\",\n",
       " u'y',\n",
       " u'you',\n",
       " u\"you'd\",\n",
       " u\"you'll\",\n",
       " u\"you're\",\n",
       " u\"you've\",\n",
       " u'your',\n",
       " u'yours',\n",
       " u'yourself',\n",
       " u'yourselves',\n",
       " '{',\n",
       " '|',\n",
       " '}',\n",
       " '~'}"
      ]
     },
     "execution_count": 25,
     "metadata": {},
     "output_type": "execute_result"
    }
   ],
   "source": [
    "from string import punctuation \n",
    "from nltk.corpus import stopwords \n",
    "#from nltk.tokenize import word_tokenize\n",
    "\n",
    "stopwords=set(stopwords.words('english')+list(punctuation))\n",
    "stopwords"
   ]
  },
  {
   "cell_type": "code",
   "execution_count": 26,
   "metadata": {
    "collapsed": true
   },
   "outputs": [],
   "source": [
    "from string import punctuation \n",
    "from nltk.corpus import stopwords \n",
    "#from nltk.tokenize import word_tokenize\n",
    "\n",
    "stopwords=set(stopwords.words('english')+list(punctuation))\n",
    "def naiveSentiment(review):\n",
    " reviewPolarity = 0.0\n",
    " numExceptions = 0\n",
    " for word in review.lower().split():\n",
    "   numMeanings = 0\n",
    "   if word in stopwords:\n",
    "     continue\n",
    "   weight = 0.0\n",
    "   try:\n",
    "     for meaning in swn.senti_synsets(word):\n",
    "       if meaning.pos_score() > meaning.neg_score():\n",
    "          weight = weight + (meaning.pos_score() - meaning.neg_score())\n",
    "          numMeanings = numMeanings + 1\n",
    "       elif meaning.pos_score() < meaning.neg_score():\n",
    "          weight = weight - (meaning.neg_score() - meaning.pos_score())\n",
    "          numMeanings = numMeanings + 1\n",
    "   except: \n",
    "       numExceptions = numExceptions + 1\n",
    "   if numMeanings > 0:\n",
    "     reviewPolarity = reviewPolarity + (weight/numMeanings)\n",
    " return reviewPolarity"
   ]
  },
  {
   "cell_type": "code",
   "execution_count": 27,
   "metadata": {},
   "outputs": [
    {
     "name": "stdout",
     "output_type": "stream",
     "text": [
      "Accuracy on positive reviews = 75.56%\n",
      "Accurance on negative reviews = 42.79%\n",
      "Overall accuracy = 59.17%\n"
     ]
    }
   ],
   "source": [
    "runDiagnostics(getReviewSentiments(naiveSentiment))"
   ]
  },
  {
   "cell_type": "code",
   "execution_count": 28,
   "metadata": {},
   "outputs": [
    {
     "data": {
      "text/plain": [
       "0.5630810810810811"
      ]
     },
     "execution_count": 28,
     "metadata": {},
     "output_type": "execute_result"
    }
   ],
   "source": [
    "review = \"this is the best restaurant in the city\"\n",
    "naiveSentiment(review)"
   ]
  },
  {
   "cell_type": "code",
   "execution_count": 29,
   "metadata": {},
   "outputs": [
    {
     "data": {
      "text/plain": [
       "0.5630810810810811"
      ]
     },
     "execution_count": 29,
     "metadata": {},
     "output_type": "execute_result"
    }
   ],
   "source": [
    "negatedReview = \"this is not the best restaurant in the city\"\n",
    "naiveSentiment(negatedReview)"
   ]
  },
  {
   "cell_type": "code",
   "execution_count": 30,
   "metadata": {},
   "outputs": [
    {
     "data": {
      "text/plain": [
       "-0.6644736842105263"
      ]
     },
     "execution_count": 30,
     "metadata": {},
     "output_type": "execute_result"
    }
   ],
   "source": [
    "negatedReview = \"this is not the worst restaurant in the city\"\n",
    "naiveSentiment(negatedReview)"
   ]
  },
  {
   "cell_type": "code",
   "execution_count": 31,
   "metadata": {},
   "outputs": [
    {
     "data": {
      "text/plain": [
       "-0.6644736842105263"
      ]
     },
     "execution_count": 31,
     "metadata": {},
     "output_type": "execute_result"
    }
   ],
   "source": [
    "Review = \"this is the worst restaurant in the city\"\n",
    "naiveSentiment(Review)"
   ]
  }
 ],
 "metadata": {
  "kernelspec": {
   "display_name": "Python 2",
   "language": "python",
   "name": "python2"
  },
  "language_info": {
   "codemirror_mode": {
    "name": "ipython",
    "version": 2
   },
   "file_extension": ".py",
   "mimetype": "text/x-python",
   "name": "python",
   "nbconvert_exporter": "python",
   "pygments_lexer": "ipython2",
   "version": "2.7.13"
  }
 },
 "nbformat": 4,
 "nbformat_minor": 2
}
